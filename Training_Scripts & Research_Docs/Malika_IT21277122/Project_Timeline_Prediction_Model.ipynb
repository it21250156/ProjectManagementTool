{
  "nbformat": 4,
  "nbformat_minor": 0,
  "metadata": {
    "colab": {
      "provenance": []
    },
    "kernelspec": {
      "name": "python3",
      "display_name": "Python 3"
    },
    "language_info": {
      "name": "python"
    }
  },
  "cells": [
    {
      "cell_type": "markdown",
      "source": [
        "Step 1: Install Required Libraries"
      ],
      "metadata": {
        "id": "E6Ofmac8B44r"
      }
    },
    {
      "cell_type": "code",
      "source": [
        "# Install required libraries (Run this only once in Colab)\n",
        "!pip install xgboost joblib"
      ],
      "metadata": {
        "colab": {
          "base_uri": "https://localhost:8080/"
        },
        "id": "LHm_eDIjCKew",
        "outputId": "4505c130-c155-44c9-bb0c-c977db1b7f58"
      },
      "execution_count": 4,
      "outputs": [
        {
          "output_type": "stream",
          "name": "stdout",
          "text": [
            "Requirement already satisfied: xgboost in /usr/local/lib/python3.11/dist-packages (2.1.4)\n",
            "Requirement already satisfied: joblib in /usr/local/lib/python3.11/dist-packages (1.4.2)\n",
            "Requirement already satisfied: numpy in /usr/local/lib/python3.11/dist-packages (from xgboost) (1.26.4)\n",
            "Requirement already satisfied: nvidia-nccl-cu12 in /usr/local/lib/python3.11/dist-packages (from xgboost) (2.21.5)\n",
            "Requirement already satisfied: scipy in /usr/local/lib/python3.11/dist-packages (from xgboost) (1.14.1)\n"
          ]
        }
      ]
    },
    {
      "cell_type": "markdown",
      "source": [
        "Step 2: Import Essential Libraries"
      ],
      "metadata": {
        "id": "dSi8Mkx0CM2y"
      }
    },
    {
      "cell_type": "code",
      "source": [
        "# Import required libraries\n",
        "import pandas as pd\n",
        "import numpy as np\n",
        "import joblib\n",
        "import matplotlib.pyplot as plt\n",
        "import seaborn as sns\n",
        "\n",
        "from sklearn.model_selection import train_test_split, StratifiedKFold\n",
        "from sklearn.ensemble import RandomForestRegressor, GradientBoostingRegressor, StackingRegressor\n",
        "from sklearn.linear_model import ElasticNet\n",
        "from xgboost import XGBRegressor\n",
        "from sklearn.preprocessing import RobustScaler\n",
        "from sklearn.metrics import mean_absolute_error, mean_squared_error, r2_score"
      ],
      "metadata": {
        "id": "U2sJfdmcCWjs"
      },
      "execution_count": 5,
      "outputs": []
    },
    {
      "cell_type": "markdown",
      "source": [
        "Step 3: Load and Inspect Dataset"
      ],
      "metadata": {
        "id": "ZXd9k4DHCYxo"
      }
    },
    {
      "cell_type": "code",
      "source": [
        "# Load dataset\n",
        "file_path = \"/content/CESAW_Project_Summary.csv\"\n",
        "data = pd.read_csv(file_path)\n",
        "\n",
        "# Display dataset overview\n",
        "print(\" Dataset Preview:\")\n",
        "print(data.head())\n",
        "\n",
        "# Check for missing values\n",
        "print(\"\\n Missing Values Summary:\")\n",
        "print(data.isnull().sum())"
      ],
      "metadata": {
        "colab": {
          "base_uri": "https://localhost:8080/"
        },
        "id": "1fsQw_DOCfDo",
        "outputId": "a47cc9ba-c735-45b5-9635-155caed8e070"
      },
      "execution_count": 6,
      "outputs": [
        {
          "output_type": "stream",
          "name": "stdout",
          "text": [
            " Dataset Preview:\n",
            "  Project_ID  Team_Size  Task_Count  Developer_Experience  Priority_Level  \\\n",
            "0        P-1          9          90                     4               1   \n",
            "1        P-2         17         277                     1               2   \n",
            "2        P-3         13         241                     4               2   \n",
            "3        P-4         10         204                     7               3   \n",
            "4        P-5          9         295                     4               2   \n",
            "\n",
            "   Task_Complexity  Effort_Hours  Project_Size  Testing_Coverage  \\\n",
            "0             1.00          3039         63478              0.99   \n",
            "1             1.54          4459         31762              0.78   \n",
            "2             1.43          5000        149355              0.63   \n",
            "3             1.60          5000        199994              0.72   \n",
            "4             1.92          4760        175492              0.80   \n",
            "\n",
            "   Past_Effort_Data  ... Task_Actual_Time_Minutes Phase_Key  Team_Key  \\\n",
            "0              3081  ...                      819         8         3   \n",
            "1              3065  ...                      203         4        14   \n",
            "2              3263  ...                      292         3        17   \n",
            "3             11490  ...                     1118         5        19   \n",
            "4              6828  ...                      205         9         6   \n",
            "\n",
            "   Defect_Fix_Time_Minutes  A&M_LoC  Effort_per_Team_Member  \\\n",
            "0                      784    31373              337.666667   \n",
            "1                      932    31270              262.294118   \n",
            "2                      818    11386              521.923077   \n",
            "3                      829    65817              593.200000   \n",
            "4                      920    66184              528.888889   \n",
            "\n",
            "   LoC_per_Team_Member  Effort_Density  Team_Productivity  Duration_Days  \n",
            "0          3485.888889        0.047875          20.887792             85  \n",
            "1          1839.411765        0.140388           7.123122            111  \n",
            "2           875.846154        0.045429          22.012528            153  \n",
            "3          6581.700000        0.029661          33.714430            128  \n",
            "4          7353.777778        0.027124          36.868067            123  \n",
            "\n",
            "[5 rows x 23 columns]\n",
            "\n",
            " Missing Values Summary:\n",
            "Project_ID                  0\n",
            "Team_Size                   0\n",
            "Task_Count                  0\n",
            "Developer_Experience        0\n",
            "Priority_Level              0\n",
            "Task_Complexity             0\n",
            "Effort_Hours                0\n",
            "Project_Size                0\n",
            "Testing_Coverage            0\n",
            "Past_Effort_Data            0\n",
            "Status                      0\n",
            "Start_Date                  0\n",
            "Task_Plan_Time_Minutes      0\n",
            "Task_Actual_Time_Minutes    0\n",
            "Phase_Key                   0\n",
            "Team_Key                    0\n",
            "Defect_Fix_Time_Minutes     0\n",
            "A&M_LoC                     0\n",
            "Effort_per_Team_Member      0\n",
            "LoC_per_Team_Member         0\n",
            "Effort_Density              0\n",
            "Team_Productivity           0\n",
            "Duration_Days               0\n",
            "dtype: int64\n"
          ]
        }
      ]
    },
    {
      "cell_type": "markdown",
      "source": [
        "Step 4: Handle Missing Values"
      ],
      "metadata": {
        "id": "xaxOcnSdChdv"
      }
    },
    {
      "cell_type": "code",
      "source": [
        "# Drop rows with missing values\n",
        "data.dropna(inplace=True)\n",
        "print(f\"\\n Missing values removed! Remaining data size: {data.shape}\")"
      ],
      "metadata": {
        "colab": {
          "base_uri": "https://localhost:8080/"
        },
        "id": "cigYZq-ICpKo",
        "outputId": "4ee40700-c964-4099-f499-59ee1bac35dc"
      },
      "execution_count": 7,
      "outputs": [
        {
          "output_type": "stream",
          "name": "stdout",
          "text": [
            "\n",
            " Missing values removed! Remaining data size: (500, 23)\n"
          ]
        }
      ]
    },
    {
      "cell_type": "markdown",
      "source": [
        "Step 5: Select Relevant Features"
      ],
      "metadata": {
        "id": "9CkCcfeZCqqo"
      }
    },
    {
      "cell_type": "code",
      "source": [
        "# Define selected features based on correlation analysis\n",
        "selected_features = [\n",
        "    \"Team_Size\", \"Task_Count\", \"Developer_Experience\", \"Priority_Level\",\n",
        "    \"Task_Complexity\", \"Project_Size\", \"Testing_Coverage\",\n",
        "    \"Effort_Density\", \"Team_Productivity\", \"LoC_per_Team_Member\"\n",
        "]\n",
        "\n",
        "# Define target variable\n",
        "X = data[selected_features]\n",
        "y = data[\"Duration_Days\"]\n",
        "\n",
        "print(f\"\\n Selected Features: {selected_features}\")\n",
        "print(f\" Target Variable: Duration_Days\")\n"
      ],
      "metadata": {
        "colab": {
          "base_uri": "https://localhost:8080/"
        },
        "id": "PdU_Kkv7Cu6h",
        "outputId": "ea5d5c91-8439-4e0d-f98c-1ee303b3afb8"
      },
      "execution_count": 8,
      "outputs": [
        {
          "output_type": "stream",
          "name": "stdout",
          "text": [
            "\n",
            " Selected Features: ['Team_Size', 'Task_Count', 'Developer_Experience', 'Priority_Level', 'Task_Complexity', 'Project_Size', 'Testing_Coverage', 'Effort_Density', 'Team_Productivity', 'LoC_per_Team_Member']\n",
            " Target Variable: Duration_Days\n"
          ]
        }
      ]
    },
    {
      "cell_type": "markdown",
      "source": [
        "Step 6: Apply Feature Scaling\n",
        "\n",
        "Standardizes feature values to improve model performance and stability.\n",
        "\n",
        "RobustScaler - Handles outliers better than StandardScaler."
      ],
      "metadata": {
        "id": "9pPba8e2C0yP"
      }
    },
    {
      "cell_type": "code",
      "source": [
        "# Initialize RobustScaler\n",
        "scaler = RobustScaler()\n",
        "\n",
        "# Apply scaling to features\n",
        "X_scaled = scaler.fit_transform(X)\n",
        "\n",
        "print(\"\\n Features Scaled Successfully!\")"
      ],
      "metadata": {
        "colab": {
          "base_uri": "https://localhost:8080/"
        },
        "id": "dPtjMdJKDISx",
        "outputId": "ee7114c5-f870-4c07-f62c-a8f89ba1f082"
      },
      "execution_count": 9,
      "outputs": [
        {
          "output_type": "stream",
          "name": "stdout",
          "text": [
            "\n",
            " Features Scaled Successfully!\n"
          ]
        }
      ]
    },
    {
      "cell_type": "markdown",
      "source": [
        "Step 7: Split Dataset into Training & Testing Sets\n",
        "\n",
        "Divide data into 80% training and 20% testing for model validation."
      ],
      "metadata": {
        "id": "Rid2d9QYDPag"
      }
    },
    {
      "cell_type": "code",
      "source": [
        "# Perform train-test split\n",
        "X_train, X_test, y_train, y_test = train_test_split(X_scaled, y, test_size=0.2, random_state=42)\n",
        "\n",
        "print(f\"\\n Data Split: {X_train.shape[0]} training rows, {X_test.shape[0]} testing rows\")"
      ],
      "metadata": {
        "colab": {
          "base_uri": "https://localhost:8080/"
        },
        "id": "otvfeuk3DWyg",
        "outputId": "f4188a17-f273-4d90-af31-157d3d155eb2"
      },
      "execution_count": 10,
      "outputs": [
        {
          "output_type": "stream",
          "name": "stdout",
          "text": [
            "\n",
            " Data Split: 400 training rows, 100 testing rows\n"
          ]
        }
      ]
    },
    {
      "cell_type": "markdown",
      "source": [
        "Step 8: Define Base Models for Stacking\n",
        "\n",
        "Uses multiple models (Random Forest, XGBoost, Gradient Boosting) to improve predictions.\n",
        "\n",
        "Previously, it was a simple model. Now, it is an ensemble learning model."
      ],
      "metadata": {
        "id": "Ev_EnNQODa_A"
      }
    },
    {
      "cell_type": "code",
      "source": [
        "# Define base models with optimized hyperparameters\n",
        "base_models = [\n",
        "    ('rf', RandomForestRegressor(n_estimators=30, max_depth=8, min_samples_split=10, random_state=42)),\n",
        "    ('xgb', XGBRegressor(n_estimators=30, max_depth=5, learning_rate=0.05, gamma=0.1, reg_lambda=2.0, random_state=42)),\n",
        "    ('gb', GradientBoostingRegressor(n_estimators=30, learning_rate=0.05, max_depth=3, random_state=42))\n",
        "]\n",
        "\n",
        "print(\"\\n Base Models Defined for Stacking\")"
      ],
      "metadata": {
        "colab": {
          "base_uri": "https://localhost:8080/"
        },
        "id": "7UkmnEOaDqdW",
        "outputId": "ece07fbe-ea7d-4c87-8c09-860782b8576b"
      },
      "execution_count": 11,
      "outputs": [
        {
          "output_type": "stream",
          "name": "stdout",
          "text": [
            "\n",
            " Base Models Defined for Stacking\n"
          ]
        }
      ]
    },
    {
      "cell_type": "markdown",
      "source": [
        "Step 9: Define Meta-Model (ElasticNet for Regularization)\n",
        "Uses ElasticNet, which balances L1 & L2 regularization to prevent overfitting."
      ],
      "metadata": {
        "id": "2leMPqY_DunA"
      }
    },
    {
      "cell_type": "code",
      "source": [
        "# Define meta-model (ElasticNet to reduce overfitting)\n",
        "meta_model = ElasticNet(alpha=0.5, l1_ratio=0.5)  # Balanced L1/L2 regularization\n",
        "\n",
        "print(\"\\n Meta-Model (ElasticNet) Initialized\")"
      ],
      "metadata": {
        "colab": {
          "base_uri": "https://localhost:8080/"
        },
        "id": "YBKiENEMD1SA",
        "outputId": "64f0ea3b-1d48-43b3-8af4-aaea7d549adf"
      },
      "execution_count": 12,
      "outputs": [
        {
          "output_type": "stream",
          "name": "stdout",
          "text": [
            "\n",
            " Meta-Model (ElasticNet) Initialized\n"
          ]
        }
      ]
    },
    {
      "cell_type": "markdown",
      "source": [
        "Step 10: Create Stacking Model with Cross-Validation\n",
        "Combines multiple models and meta-model for better accuracy."
      ],
      "metadata": {
        "id": "FUC1Q86GD8Gz"
      }
    },
    {
      "cell_type": "code",
      "source": [
        "# Define stacking model with cross-validation\n",
        "stacked_model = StackingRegressor(estimators=base_models, final_estimator=meta_model, cv=StratifiedKFold(n_splits=5))\n",
        "\n",
        "print(\"\\n Stacking Model Created with Cross-Validation\")"
      ],
      "metadata": {
        "colab": {
          "base_uri": "https://localhost:8080/"
        },
        "id": "HtuClCIHEC56",
        "outputId": "fae6901e-0ed2-44d3-d5ed-d3396867c3bf"
      },
      "execution_count": 13,
      "outputs": [
        {
          "output_type": "stream",
          "name": "stdout",
          "text": [
            "\n",
            " Stacking Model Created with Cross-Validation\n"
          ]
        }
      ]
    },
    {
      "cell_type": "markdown",
      "source": [
        "Step 11: Train the Hybrid Model\n",
        "\n",
        "To fit the stacked model on training data."
      ],
      "metadata": {
        "id": "KlgKSTmsEG8a"
      }
    },
    {
      "cell_type": "code",
      "source": [
        "print(\"\\n Training the Stacking Model...\")\n",
        "stacked_model.fit(X_train, y_train)\n",
        "\n",
        "print(\"\\n Model Training Completed!\")"
      ],
      "metadata": {
        "colab": {
          "base_uri": "https://localhost:8080/"
        },
        "id": "x7BxgbV_ESyk",
        "outputId": "a3ef660c-5025-4fa3-9f93-6030d356048a"
      },
      "execution_count": 14,
      "outputs": [
        {
          "output_type": "stream",
          "name": "stdout",
          "text": [
            "\n",
            " Training the Stacking Model...\n"
          ]
        },
        {
          "output_type": "stream",
          "name": "stderr",
          "text": [
            "/usr/local/lib/python3.11/dist-packages/sklearn/model_selection/_split.py:805: UserWarning: The least populated class in y has only 1 members, which is less than n_splits=5.\n",
            "  warnings.warn(\n",
            "/usr/local/lib/python3.11/dist-packages/sklearn/model_selection/_split.py:805: UserWarning: The least populated class in y has only 1 members, which is less than n_splits=5.\n",
            "  warnings.warn(\n",
            "/usr/local/lib/python3.11/dist-packages/sklearn/model_selection/_split.py:805: UserWarning: The least populated class in y has only 1 members, which is less than n_splits=5.\n",
            "  warnings.warn(\n"
          ]
        },
        {
          "output_type": "stream",
          "name": "stdout",
          "text": [
            "\n",
            " Model Training Completed!\n"
          ]
        }
      ]
    },
    {
      "cell_type": "markdown",
      "source": [
        "Step 12: Evaluate Model Performance"
      ],
      "metadata": {
        "id": "DmtgiiUQEam4"
      }
    },
    {
      "cell_type": "code",
      "source": [
        "# Make predictions on the test set\n",
        "y_pred = stacked_model.predict(X_test)\n",
        "\n",
        "# Compute evaluation metrics\n",
        "mae = mean_absolute_error(y_test, y_pred)\n",
        "mse = mean_squared_error(y_test, y_pred)\n",
        "rmse = np.sqrt(mse)\n",
        "r2 = r2_score(y_test, y_pred)\n",
        "\n",
        "print(\"\\n Final Optimized Stacking Model Evaluation:\")\n",
        "print(f\"MAE: {mae:.2f}\")\n",
        "print(f\"MSE: {mse:.2f}\")\n",
        "print(f\"RMSE: {rmse:.2f}\")\n",
        "print(f\"R² Score: {r2:.2f}\")"
      ],
      "metadata": {
        "colab": {
          "base_uri": "https://localhost:8080/"
        },
        "id": "l2G9Ylv_Ekub",
        "outputId": "f1d8bfc0-3cdf-4f04-df24-85b3856f51ce"
      },
      "execution_count": 15,
      "outputs": [
        {
          "output_type": "stream",
          "name": "stdout",
          "text": [
            "\n",
            " Final Optimized Stacking Model Evaluation:\n",
            "MAE: 12.19\n",
            "MSE: 251.24\n",
            "RMSE: 15.85\n",
            "R² Score: 0.93\n"
          ]
        }
      ]
    },
    {
      "cell_type": "markdown",
      "source": [
        "Step 13: Save the Model and Preprocessing Tools"
      ],
      "metadata": {
        "id": "NK6_HQgaEm_4"
      }
    },
    {
      "cell_type": "code",
      "source": [
        "# Save trained stacking model & scaler\n",
        "joblib.dump(stacked_model, \"best_optimized_hybrid_model.pkl\")\n",
        "joblib.dump(scaler, \"scaler.pkl\")\n",
        "\n",
        "print(\"\\n Optimized hybrid model and scaler saved!\")"
      ],
      "metadata": {
        "colab": {
          "base_uri": "https://localhost:8080/"
        },
        "id": "8iACjaokEuQ4",
        "outputId": "683befc0-3796-47a6-b6b4-efea88d3fd62"
      },
      "execution_count": 16,
      "outputs": [
        {
          "output_type": "stream",
          "name": "stdout",
          "text": [
            "\n",
            " Optimized hybrid model and scaler saved!\n"
          ]
        }
      ]
    },
    {
      "cell_type": "markdown",
      "source": [
        "Step 14: Store and Save Model Performance Metrics"
      ],
      "metadata": {
        "id": "wtaf4fWtEvjQ"
      }
    },
    {
      "cell_type": "code",
      "source": [
        "# Store all regression metrics in a dictionary\n",
        "timeline_metrics = {\n",
        "    \"r2_score\": round(r2, 4),\n",
        "    \"mae\": round(mae, 2),\n",
        "    \"rmse\": round(rmse, 2)\n",
        "}\n",
        "\n",
        "# Save the metrics\n",
        "joblib.dump(timeline_metrics, \"project_timeline_metrics.pkl\")\n",
        "\n",
        "print(\" Project Timeline Metrics saved!\")"
      ],
      "metadata": {
        "colab": {
          "base_uri": "https://localhost:8080/"
        },
        "id": "XvUv2FQTE15K",
        "outputId": "d8941528-c99a-4025-f6e4-32814e880f9d"
      },
      "execution_count": 17,
      "outputs": [
        {
          "output_type": "stream",
          "name": "stdout",
          "text": [
            " Project Timeline Metrics saved!\n"
          ]
        }
      ]
    },
    {
      "cell_type": "markdown",
      "source": [
        "Step 15: Visualize Model Performance"
      ],
      "metadata": {
        "id": "40eSMyvoE3zw"
      }
    },
    {
      "cell_type": "code",
      "source": [
        "plt.figure(figsize=(10, 5))\n",
        "plt.scatter(y_test, y_pred, label=\"Predicted Duration\", alpha=0.6, color='blue')\n",
        "plt.plot(y_test, y_test, 'k--', label=\"Ideal Fit\")\n",
        "plt.xlabel(\"Actual Duration (Days)\")\n",
        "plt.ylabel(\"Predicted Duration (Days)\")\n",
        "plt.legend()\n",
        "plt.title(\"Actual vs Predicted Project Duration (Optimized Hybrid Model)\")\n",
        "plt.show()\n",
        "\n",
        "print(\"\\n Model Performance Visualization Completed!\")"
      ],
      "metadata": {
        "colab": {
          "base_uri": "https://localhost:8080/",
          "height": 523
        },
        "id": "_P7SNgdcE9Of",
        "outputId": "de906b63-e9fb-4a8c-e417-6079d489a986"
      },
      "execution_count": 18,
      "outputs": [
        {
          "output_type": "display_data",
          "data": {
            "text/plain": [
              "<Figure size 1000x500 with 1 Axes>"
            ],
            "image/png": "[encoded data removed]"
          },
          "metadata": {}
        },
        {
          "output_type": "stream",
          "name": "stdout",
          "text": [
            "\n",
            " Model Performance Visualization Completed!\n"
          ]
        }
      ]
    }
  ]
}