{
  "nbformat": 4,
  "nbformat_minor": 0,
  "metadata": {
    "colab": {
      "provenance": []
    },
    "kernelspec": {
      "name": "python3",
      "display_name": "Python 3"
    },
    "language_info": {
      "name": "python"
    }
  },
  "cells": [
    {
      "cell_type": "markdown",
      "source": [
        "Step 1: Install Required Libraries"
      ],
      "metadata": {
        "id": "_ALIRoPmGYd6"
      }
    },
    {
      "cell_type": "code",
      "source": [
        "!pip install imbalanced-learn joblib"
      ],
      "metadata": {
        "colab": {
          "base_uri": "https://localhost:8080/"
        },
        "id": "FAw5tOV3GdW_",
        "outputId": "3beee268-2310-4b40-8989-e50e244e98aa"
      },
      "execution_count": 1,
      "outputs": [
        {
          "output_type": "stream",
          "name": "stdout",
          "text": [
            "Requirement already satisfied: imbalanced-learn in /usr/local/lib/python3.11/dist-packages (0.13.0)\n",
            "Requirement already satisfied: joblib in /usr/local/lib/python3.11/dist-packages (1.4.2)\n",
            "Requirement already satisfied: numpy<3,>=1.24.3 in /usr/local/lib/python3.11/dist-packages (from imbalanced-learn) (1.26.4)\n",
            "Requirement already satisfied: scipy<2,>=1.10.1 in /usr/local/lib/python3.11/dist-packages (from imbalanced-learn) (1.14.1)\n",
            "Requirement already satisfied: scikit-learn<2,>=1.3.2 in /usr/local/lib/python3.11/dist-packages (from imbalanced-learn) (1.6.1)\n",
            "Requirement already satisfied: sklearn-compat<1,>=0.1 in /usr/local/lib/python3.11/dist-packages (from imbalanced-learn) (0.1.3)\n",
            "Requirement already satisfied: threadpoolctl<4,>=2.0.0 in /usr/local/lib/python3.11/dist-packages (from imbalanced-learn) (3.5.0)\n"
          ]
        }
      ]
    },
    {
      "cell_type": "markdown",
      "source": [
        "Step 2: Import Libraries"
      ],
      "metadata": {
        "id": "t8ZhpyQfHZPZ"
      }
    },
    {
      "cell_type": "code",
      "source": [
        "import pandas as pd\n",
        "import numpy as np\n",
        "from sklearn.model_selection import train_test_split, cross_val_score, GridSearchCV, StratifiedKFold\n",
        "from sklearn.preprocessing import LabelEncoder, OneHotEncoder, StandardScaler\n",
        "from sklearn.compose import ColumnTransformer\n",
        "from sklearn.pipeline import Pipeline\n",
        "from sklearn.ensemble import RandomForestClassifier\n",
        "from sklearn.metrics import accuracy_score, classification_report, confusion_matrix\n",
        "from imblearn.over_sampling import SMOTE\n",
        "from imblearn.pipeline import Pipeline as ImbPipeline\n",
        "import joblib"
      ],
      "metadata": {
        "id": "uBMUvwQSHZxa"
      },
      "execution_count": 2,
      "outputs": []
    },
    {
      "cell_type": "markdown",
      "source": [
        "Step 3: Load and Inspect Dataset"
      ],
      "metadata": {
        "id": "9l0u-FiMHaL_"
      }
    },
    {
      "cell_type": "code",
      "source": [
        "# Load dataset\n",
        "df = pd.read_csv('/content/CESAW_Task_fact.csv')\n",
        "\n",
        "# Display dataset overview\n",
        "print(\"Dataset Preview:\")\n",
        "print(df.head())\n"
      ],
      "metadata": {
        "colab": {
          "base_uri": "https://localhost:8080/"
        },
        "id": "im-RTMGIHbo5",
        "outputId": "4375efa8-c80c-4260-ae06-59edc61ce97b"
      },
      "execution_count": 3,
      "outputs": [
        {
          "output_type": "stream",
          "name": "stdout",
          "text": [
            "Dataset Preview:\n",
            "    task_id            task_type  task_complexity  task_priority  \\\n",
            "0  f0f9c6bc           Bug Fixing                1              1   \n",
            "1  a96b4054              Testing                3              3   \n",
            "2  3abad251  Feature Development                1              3   \n",
            "3  46b79443  Feature Development                2              3   \n",
            "4  59fed919           Bug Fixing                1              3   \n",
            "\n",
            "   estimated_effort_hours  team_experience_level  total_members  \\\n",
            "0                   39.67                      3             13   \n",
            "1                   29.30                      3              7   \n",
            "2                   48.97                      3              9   \n",
            "3                   41.25                      2              8   \n",
            "4                   36.19                      2             11   \n",
            "\n",
            "   past_projects_completed          specialization  team_skillset_match  \\\n",
            "0                        4  Mobile App Development                67.19   \n",
            "1                        4         Web Development                77.40   \n",
            "2                        1  Mobile App Development                76.65   \n",
            "3                        2         Web Development                97.57   \n",
            "4                        4           Cybersecurity                62.98   \n",
            "\n",
            "   team_availability assigned_team  \n",
            "0              30.34            T8  \n",
            "1              36.10            T4  \n",
            "2              92.06            T2  \n",
            "3              36.18           T10  \n",
            "4              58.61            T3  \n"
          ]
        }
      ]
    },
    {
      "cell_type": "markdown",
      "source": [
        "Step 4: Encode Categorical Variables\n",
        "\n",
        "Since the target variable (assigned_team) is categorical, it needs to be converted to numerical labels before training."
      ],
      "metadata": {
        "id": "1m6x5AJmHcO_"
      }
    },
    {
      "cell_type": "code",
      "source": [
        "# Initialize label encoder for target variable\n",
        "label_encoder = LabelEncoder()\n",
        "df['assigned_team'] = label_encoder.fit_transform(df['assigned_team'])\n",
        "\n",
        "print(\"\\nCategorical Target Variable Encoded Successfully.\")"
      ],
      "metadata": {
        "colab": {
          "base_uri": "https://localhost:8080/"
        },
        "id": "2K9fkkESHgTh",
        "outputId": "b53b4326-4f7c-46b9-e149-924cf5ff11f8"
      },
      "execution_count": 4,
      "outputs": [
        {
          "output_type": "stream",
          "name": "stdout",
          "text": [
            "\n",
            "Categorical Target Variable Encoded Successfully.\n"
          ]
        }
      ]
    },
    {
      "cell_type": "markdown",
      "source": [
        "Step 5: Define Features and Target Variable\n",
        "\n",
        "The dataset is split into independent features (X) and the target variable (y)."
      ],
      "metadata": {
        "id": "0w0ilpZOIMih"
      }
    },
    {
      "cell_type": "code",
      "source": [
        "# Define features and target variable\n",
        "X = df.drop(['task_id', 'assigned_team', 'team_skillset_match', 'team_availability', 'total_members'], axis=1)\n",
        "y = df['assigned_team']\n",
        "\n",
        "print(f\"\\nFeature Selection Completed: {X.shape[1]} features selected.\")"
      ],
      "metadata": {
        "colab": {
          "base_uri": "https://localhost:8080/"
        },
        "id": "q7of-Oq9IQxX",
        "outputId": "d6545345-367d-474f-b9e7-f4e36ca3043b"
      },
      "execution_count": 5,
      "outputs": [
        {
          "output_type": "stream",
          "name": "stdout",
          "text": [
            "\n",
            "Feature Selection Completed: 7 features selected.\n"
          ]
        }
      ]
    },
    {
      "cell_type": "markdown",
      "source": [
        "Step 6: Split Dataset into Training & Testing Sets\n",
        "\n",
        "We divide the dataset into 80% training and 20% testing to validate model performance."
      ],
      "metadata": {
        "id": "wbch5ex0IT7Y"
      }
    },
    {
      "cell_type": "code",
      "source": [
        "X_train, X_test, y_train, y_test = train_test_split(X, y, test_size=0.2, random_state=42, stratify=y)\n",
        "\n",
        "print(f\"\\nData Split: {X_train.shape[0]} training rows, {X_test.shape[0]} testing rows.\")"
      ],
      "metadata": {
        "colab": {
          "base_uri": "https://localhost:8080/"
        },
        "id": "ddqO2xi0IXAJ",
        "outputId": "8bf4376b-2dd8-46e3-8e97-c49efdad43c4"
      },
      "execution_count": 6,
      "outputs": [
        {
          "output_type": "stream",
          "name": "stdout",
          "text": [
            "\n",
            "Data Split: 400 training rows, 100 testing rows.\n"
          ]
        }
      ]
    },
    {
      "cell_type": "markdown",
      "source": [
        "Step 7: Preprocess Features (Numerical & Categorical)\n",
        "\n",
        "Feature scaling ensures numerical stability, while one-hot encoding handles categorical features."
      ],
      "metadata": {
        "id": "ll7E0MT3IaPf"
      }
    },
    {
      "cell_type": "code",
      "source": [
        "# Define categorical and numerical feature lists\n",
        "categorical_features = ['task_type', 'specialization']\n",
        "numerical_features = ['task_complexity', 'task_priority', 'estimated_effort_hours',\n",
        "                      'team_experience_level', 'past_projects_completed']\n",
        "\n",
        "# Define preprocessing pipeline\n",
        "preprocessor = ColumnTransformer(\n",
        "    transformers=[\n",
        "        ('num', StandardScaler(), numerical_features),  # Scale numerical features\n",
        "        ('cat', OneHotEncoder(handle_unknown='ignore'), categorical_features)\n",
        "    ])\n",
        "\n",
        "print(\"\\nFeature Preprocessing Pipeline Defined.\")"
      ],
      "metadata": {
        "colab": {
          "base_uri": "https://localhost:8080/"
        },
        "id": "5u0PYzSYIfsY",
        "outputId": "6cbaacba-1c79-491b-deff-201c36c4753b"
      },
      "execution_count": 7,
      "outputs": [
        {
          "output_type": "stream",
          "name": "stdout",
          "text": [
            "\n",
            "Feature Preprocessing Pipeline Defined.\n"
          ]
        }
      ]
    },
    {
      "cell_type": "markdown",
      "source": [
        "Step 8: Define the Model\n",
        "\n",
        "The RandomForestClassifier is chosen as the main model due to its ability to handle complex feature interactions."
      ],
      "metadata": {
        "id": "-BY5zg6vIjR4"
      }
    },
    {
      "cell_type": "code",
      "source": [
        "# Initialize Random Forest model\n",
        "model = RandomForestClassifier(random_state=42)\n",
        "\n",
        "print(\"\\nRandom Forest Classifier Initialized.\")"
      ],
      "metadata": {
        "colab": {
          "base_uri": "https://localhost:8080/"
        },
        "id": "7RMp8DSnIqk3",
        "outputId": "422ef760-2377-427c-8627-d17679f84983"
      },
      "execution_count": 8,
      "outputs": [
        {
          "output_type": "stream",
          "name": "stdout",
          "text": [
            "\n",
            "Random Forest Classifier Initialized.\n"
          ]
        }
      ]
    },
    {
      "cell_type": "markdown",
      "source": [
        "Step 9: Create a Training Pipeline with SMOTE\n",
        "\n",
        "SMOTE (Synthetic Minority Over-sampling Technique) is used to balance the dataset so that all teams have sufficient training data."
      ],
      "metadata": {
        "id": "e21N2_v3ItyC"
      }
    },
    {
      "cell_type": "code",
      "source": [
        "# Create pipeline with SMOTE to handle class imbalance\n",
        "pipeline = ImbPipeline(steps=[\n",
        "    ('preprocessor', preprocessor),\n",
        "    ('smote', SMOTE(random_state=42)),\n",
        "    ('model', model)\n",
        "])\n",
        "\n",
        "print(\"\\nPipeline with SMOTE Created Successfully.\")"
      ],
      "metadata": {
        "colab": {
          "base_uri": "https://localhost:8080/"
        },
        "id": "LVi6oxTXIxwA",
        "outputId": "0d0108fe-0343-4d4c-86c9-ba75bf859711"
      },
      "execution_count": 9,
      "outputs": [
        {
          "output_type": "stream",
          "name": "stdout",
          "text": [
            "\n",
            "Pipeline with SMOTE Created Successfully.\n"
          ]
        }
      ]
    },
    {
      "cell_type": "markdown",
      "source": [
        "Step 10: Hyperparameter Tuning Using GridSearchCV\n",
        "\n",
        "Instead of training with default parameters, we search for the best model settings."
      ],
      "metadata": {
        "id": "IEXTEqrVI1yJ"
      }
    },
    {
      "cell_type": "code",
      "source": [
        "# Define hyperparameter grid for tuning\n",
        "param_grid = {\n",
        "    'model__n_estimators': [100, 200, 300],\n",
        "    'model__max_depth': [5, 10, 15, None],\n",
        "    'model__min_samples_split': [2, 5, 10],\n",
        "    'model__min_samples_leaf': [1, 2, 4],\n",
        "    'model__bootstrap': [True, False]\n",
        "}\n",
        "\n",
        "# Perform GridSearch with 5-fold cross-validation\n",
        "grid_search = GridSearchCV(pipeline, param_grid, cv=StratifiedKFold(n_splits=5, shuffle=True, random_state=42),\n",
        "                           scoring='accuracy', n_jobs=-1)\n",
        "grid_search.fit(X_train, y_train)\n",
        "\n",
        "# Retrieve the best model\n",
        "best_pipeline = grid_search.best_estimator_\n",
        "\n",
        "print(f\"\\nBest Model Parameters: {grid_search.best_params_}\")\n"
      ],
      "metadata": {
        "colab": {
          "base_uri": "https://localhost:8080/"
        },
        "id": "l7hGS8VAI9fq",
        "outputId": "19cf6a55-6f6e-41cc-e55d-b16d843f9dc0"
      },
      "execution_count": 10,
      "outputs": [
        {
          "output_type": "stream",
          "name": "stdout",
          "text": [
            "\n",
            "Best Model Parameters: {'model__bootstrap': True, 'model__max_depth': None, 'model__min_samples_leaf': 1, 'model__min_samples_split': 2, 'model__n_estimators': 200}\n"
          ]
        }
      ]
    },
    {
      "cell_type": "markdown",
      "source": [
        "Step 11: Cross-Validation with Best Model\n",
        "\n",
        "To ensure the best model generalizes well, we evaluate it using cross-validation."
      ],
      "metadata": {
        "id": "3cOnMOJ6I-1h"
      }
    },
    {
      "cell_type": "code",
      "source": [
        "cv_scores = cross_val_score(best_pipeline, X_train, y_train, cv=StratifiedKFold(n_splits=5, shuffle=True, random_state=42),\n",
        "                            scoring='accuracy')\n",
        "\n",
        "print(f'\\nCross-validation accuracy scores: {cv_scores}')\n",
        "print(f'Mean cross-validation accuracy: {np.mean(cv_scores):.4f}')"
      ],
      "metadata": {
        "colab": {
          "base_uri": "https://localhost:8080/"
        },
        "id": "jR8tD--SJFsY",
        "outputId": "22351756-bec8-4907-f9e8-b8d4de01747a"
      },
      "execution_count": 11,
      "outputs": [
        {
          "output_type": "stream",
          "name": "stdout",
          "text": [
            "\n",
            "Cross-validation accuracy scores: [0.7    0.7875 0.7625 0.7375 0.825 ]\n",
            "Mean cross-validation accuracy: 0.7625\n"
          ]
        }
      ]
    },
    {
      "cell_type": "markdown",
      "source": [
        "Step 12: Train the Final Model\n",
        "\n",
        "We now train the best model on the entire training dataset."
      ],
      "metadata": {
        "id": "IegGmP-PJIZ3"
      }
    },
    {
      "cell_type": "code",
      "source": [
        "best_pipeline.fit(X_train, y_train)\n",
        "\n",
        "print(\"\\nFinal Model Training Completed.\")"
      ],
      "metadata": {
        "colab": {
          "base_uri": "https://localhost:8080/"
        },
        "id": "RKZI2uuVJMTY",
        "outputId": "5cb9dd7f-3173-45a0-c48a-4c9f4892709b"
      },
      "execution_count": 12,
      "outputs": [
        {
          "output_type": "stream",
          "name": "stdout",
          "text": [
            "\n",
            "Final Model Training Completed.\n"
          ]
        }
      ]
    },
    {
      "cell_type": "markdown",
      "source": [
        "Step 13: Make Predictions\n",
        "\n",
        "We now use the trained model to predict task allocation for the test data."
      ],
      "metadata": {
        "id": "KwO7deMTJO7A"
      }
    },
    {
      "cell_type": "code",
      "source": [
        "y_pred = best_pipeline.predict(X_test)\n",
        "\n",
        "print(\"\\nPredictions Generated.\")"
      ],
      "metadata": {
        "colab": {
          "base_uri": "https://localhost:8080/"
        },
        "id": "V5dsX4SOJZIA",
        "outputId": "baf3bf1f-3a56-4720-dddc-91e6d822f638"
      },
      "execution_count": 13,
      "outputs": [
        {
          "output_type": "stream",
          "name": "stdout",
          "text": [
            "\n",
            "Predictions Generated.\n"
          ]
        }
      ]
    },
    {
      "cell_type": "markdown",
      "source": [
        "Step 14: Evaluate Model Performance\n",
        "\n",
        "We assess accuracy, classification report, and confusion matrix."
      ],
      "metadata": {
        "id": "XUyIhPMEJf-J"
      }
    },
    {
      "cell_type": "code",
      "source": [
        "# Compute accuracy\n",
        "accuracy = accuracy_score(y_test, y_pred)\n",
        "\n",
        "# Generate classification report and confusion matrix\n",
        "conf_matrix = confusion_matrix(y_test, y_pred)\n",
        "class_report = classification_report(y_test, y_pred, target_names=label_encoder.classes_, output_dict=True)\n",
        "\n",
        "# Print evaluation metrics\n",
        "print(f\"\\nTest Accuracy: {accuracy:.4f}\")\n",
        "print(\"\\nClassification Report:\")\n",
        "print(classification_report(y_test, y_pred, target_names=label_encoder.classes_))\n",
        "\n",
        "print(\"\\nConfusion Matrix:\")\n",
        "print(conf_matrix)\n"
      ],
      "metadata": {
        "colab": {
          "base_uri": "https://localhost:8080/"
        },
        "id": "qoJOdB7XJhEL",
        "outputId": "6dbcc4be-1af0-4866-ed53-6841db2bad88"
      },
      "execution_count": 14,
      "outputs": [
        {
          "output_type": "stream",
          "name": "stdout",
          "text": [
            "\n",
            "Test Accuracy: 0.7600\n",
            "\n",
            "Classification Report:\n",
            "              precision    recall  f1-score   support\n",
            "\n",
            "          T1       0.70      0.88      0.78         8\n",
            "         T10       0.82      0.69      0.75        13\n",
            "          T2       0.83      0.62      0.71         8\n",
            "          T3       0.70      0.88      0.78         8\n",
            "          T4       1.00      0.91      0.95        11\n",
            "          T5       0.58      0.70      0.64        10\n",
            "          T6       0.82      0.90      0.86        10\n",
            "          T7       0.71      0.80      0.75        15\n",
            "          T8       0.67      0.67      0.67         6\n",
            "          T9       0.86      0.55      0.67        11\n",
            "\n",
            "    accuracy                           0.76       100\n",
            "   macro avg       0.77      0.76      0.75       100\n",
            "weighted avg       0.78      0.76      0.76       100\n",
            "\n",
            "\n",
            "Confusion Matrix:\n",
            "[[ 7  0  0  0  0  0  1  0  0  0]\n",
            " [ 0  9  1  1  0  0  0  2  0  0]\n",
            " [ 0  0  5  1  0  1  1  0  0  0]\n",
            " [ 0  0  0  7  0  1  0  0  0  0]\n",
            " [ 1  0  0  0 10  0  0  0  0  0]\n",
            " [ 1  0  0  1  0  7  0  0  0  1]\n",
            " [ 0  0  0  0  0  0  9  0  1  0]\n",
            " [ 0  2  0  0  0  0  0 12  1  0]\n",
            " [ 1  0  0  0  0  1  0  0  4  0]\n",
            " [ 0  0  0  0  0  2  0  3  0  6]]\n"
          ]
        }
      ]
    },
    {
      "cell_type": "markdown",
      "source": [
        "Step 15: Save the Model\n",
        "\n",
        "The trained model is saved for future use in the API."
      ],
      "metadata": {
        "id": "HGbDO-KxJkCI"
      }
    },
    {
      "cell_type": "code",
      "source": [
        "joblib.dump(best_pipeline, 'task_allocation_model.pkl')\n",
        "\n",
        "print(\"\\nModel Saved Successfully.\")"
      ],
      "metadata": {
        "colab": {
          "base_uri": "https://localhost:8080/"
        },
        "id": "iQowSfXRJpSR",
        "outputId": "092c7212-784d-4255-dff5-2de322651e0d"
      },
      "execution_count": 15,
      "outputs": [
        {
          "output_type": "stream",
          "name": "stdout",
          "text": [
            "\n",
            "Model Saved Successfully.\n"
          ]
        }
      ]
    },
    {
      "cell_type": "markdown",
      "source": [
        "Step 16: Save Accuracy Metrics\n",
        "\n",
        "To track model performance, we store accuracy metrics separately."
      ],
      "metadata": {
        "id": "iJ7ZLaHnJueg"
      }
    },
    {
      "cell_type": "code",
      "source": [
        "accuracy_metrics = {\n",
        "    'cross_validation_scores': cv_scores,\n",
        "    'mean_cross_validation_accuracy': np.mean(cv_scores),\n",
        "    'test_accuracy': accuracy,\n",
        "    'classification_report': class_report\n",
        "}\n",
        "\n",
        "joblib.dump(accuracy_metrics, 'accuracy_metrics.pkl')\n",
        "\n",
        "print(\"\\nAccuracy Metrics Saved.\")"
      ],
      "metadata": {
        "colab": {
          "base_uri": "https://localhost:8080/"
        },
        "id": "X4242aihJyV4",
        "outputId": "bc2418cc-e4ae-4fd6-fbe7-e8969cc58105"
      },
      "execution_count": 16,
      "outputs": [
        {
          "output_type": "stream",
          "name": "stdout",
          "text": [
            "\n",
            "Accuracy Metrics Saved.\n"
          ]
        }
      ]
    },
    {
      "cell_type": "markdown",
      "source": [
        "Step 17: Save Feature Importance\n",
        "\n",
        "Feature importance shows which features contributed the most to predictions."
      ],
      "metadata": {
        "id": "iv-cuSemJ1lS"
      }
    },
    {
      "cell_type": "code",
      "source": [
        "feature_importances = best_pipeline.named_steps['model'].feature_importances_\n",
        "feature_names = numerical_features + list(best_pipeline.named_steps['preprocessor'].named_transformers_['cat'].get_feature_names_out(categorical_features))\n",
        "\n",
        "feature_importance_dict = dict(zip(feature_names, feature_importances))\n",
        "joblib.dump(feature_importance_dict, 'feature_importance.pkl')\n",
        "\n",
        "print(\"\\nFeature Importance Scores Saved.\")"
      ],
      "metadata": {
        "colab": {
          "base_uri": "https://localhost:8080/"
        },
        "id": "TBQZaQQHJ71H",
        "outputId": "fd80ed57-c689-473e-e485-10b6b4e0d8e6"
      },
      "execution_count": 17,
      "outputs": [
        {
          "output_type": "stream",
          "name": "stdout",
          "text": [
            "\n",
            "Feature Importance Scores Saved.\n"
          ]
        }
      ]
    },
    {
      "cell_type": "markdown",
      "source": [
        "Step 18: Visualize Accuracy Metrics\n",
        "\n",
        "Now, let's plot the cross-validation accuracy scores to see how well the model performs across different folds."
      ],
      "metadata": {
        "id": "RGJxBpwJJ-s4"
      }
    },
    {
      "cell_type": "code",
      "execution_count": 18,
      "metadata": {
        "colab": {
          "base_uri": "https://localhost:8080/",
          "height": 523
        },
        "id": "8-HiZsBG6swK",
        "outputId": "f9d00d05-661a-4c70-f043-38c721f91848"
      },
      "outputs": [
        {
          "output_type": "display_data",
          "data": {
            "text/plain": [
              "<Figure size 800x500 with 1 Axes>"
            ],
            "image/png": "[encoded data removed]"
          },
          "metadata": {}
        },
        {
          "output_type": "stream",
          "name": "stdout",
          "text": [
            "\n",
            "Cross-validation accuracy plot displayed.\n"
          ]
        }
      ],
      "source": [
        "import matplotlib.pyplot as plt\n",
        "\n",
        "# Plot cross-validation scores\n",
        "plt.figure(figsize=(8, 5))\n",
        "plt.plot(range(1, len(cv_scores) + 1), cv_scores, marker='o', linestyle='-', color='b', label='Cross-Validation Accuracy')\n",
        "plt.axhline(y=np.mean(cv_scores), color='r', linestyle='--', label=f'Avg Accuracy: {np.mean(cv_scores):.4f}')\n",
        "plt.xlabel('Cross-Validation Fold')\n",
        "plt.ylabel('Accuracy')\n",
        "plt.title('Cross-Validation Accuracy Scores')\n",
        "plt.legend()\n",
        "plt.grid(True)\n",
        "plt.show()\n",
        "\n",
        "print(\"\\nCross-validation accuracy plot displayed.\")\n"
      ]
    }
  ]
}